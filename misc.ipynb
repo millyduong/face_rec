{
 "cells": [
  {
   "cell_type": "code",
   "execution_count": 23,
   "metadata": {},
   "outputs": [],
   "source": [
    "import numpy as np\n",
    "import cv2\n",
    "import imutils\n",
    "import matplotlib as plt\n"
   ]
  },
  {
   "cell_type": "code",
   "execution_count": 33,
   "metadata": {},
   "outputs": [
    {
     "ename": "KeyboardInterrupt",
     "evalue": "",
     "output_type": "error",
     "traceback": [
      "\u001b[0;31m---------------------------------------------------------------------------\u001b[0m",
      "\u001b[0;31mKeyboardInterrupt\u001b[0m                         Traceback (most recent call last)",
      "\u001b[0;32m<ipython-input-33-c7c0426e879f>\u001b[0m in \u001b[0;36m<module>\u001b[0;34m\u001b[0m\n\u001b[1;32m     14\u001b[0m \u001b[0;34m\u001b[0m\u001b[0m\n\u001b[1;32m     15\u001b[0m         \u001b[0mcv2\u001b[0m\u001b[0;34m.\u001b[0m\u001b[0mimshow\u001b[0m\u001b[0;34m(\u001b[0m\u001b[0;34m'frame'\u001b[0m\u001b[0;34m,\u001b[0m\u001b[0mframe\u001b[0m\u001b[0;34m)\u001b[0m\u001b[0;34m\u001b[0m\u001b[0;34m\u001b[0m\u001b[0m\n\u001b[0;32m---> 16\u001b[0;31m         \u001b[0;32mif\u001b[0m \u001b[0mcv2\u001b[0m\u001b[0;34m.\u001b[0m\u001b[0mwaitKey\u001b[0m\u001b[0;34m(\u001b[0m\u001b[0;36m1\u001b[0m\u001b[0;34m)\u001b[0m \u001b[0;34m&\u001b[0m \u001b[0;36m0xFF\u001b[0m \u001b[0;34m==\u001b[0m \u001b[0mord\u001b[0m\u001b[0;34m(\u001b[0m\u001b[0;34m'q'\u001b[0m\u001b[0;34m)\u001b[0m\u001b[0;34m:\u001b[0m\u001b[0;34m\u001b[0m\u001b[0;34m\u001b[0m\u001b[0m\n\u001b[0m\u001b[1;32m     17\u001b[0m             \u001b[0;32mbreak\u001b[0m\u001b[0;34m\u001b[0m\u001b[0;34m\u001b[0m\u001b[0m\n\u001b[1;32m     18\u001b[0m     \u001b[0;32melse\u001b[0m\u001b[0;34m:\u001b[0m\u001b[0;34m\u001b[0m\u001b[0;34m\u001b[0m\u001b[0m\n",
      "\u001b[0;31mKeyboardInterrupt\u001b[0m: "
     ]
    }
   ],
   "source": [
    "cap = cv2.VideoCapture(0)\n",
    "\n",
    "# Define the codec and create VideoWriter object\n",
    "fourcc = cv2.VideoWriter_fourcc(*'XVID')\n",
    "out = cv2.VideoWriter('output.avi',fourcc, 20.0, (640,480))\n",
    "\n",
    "while(cap.isOpened()):\n",
    "    ret, frame = cap.read()\n",
    "    if ret==True:\n",
    "        frame = cv2.flip(frame,1)\n",
    "\n",
    "        # write the flipped frame\n",
    "        out.write(frame)\n",
    "\n",
    "        cv2.imshow('frame',frame)\n",
    "        if cv2.waitKey(1) & 0xFF == ord('q'):\n",
    "            break\n",
    "    else:\n",
    "        break\n",
    "\n",
    "# Release everything if job is finished\n",
    "cap.release()\n",
    "out.release()\n",
    "cv2.destroyAllWindows()"
   ]
  },
  {
   "cell_type": "code",
   "execution_count": 25,
   "metadata": {},
   "outputs": [],
   "source": [
    "MODEL = \"/Users/millyduong/Documents/face_rec/yolo/drive-download-20210121T071505Z-001/yolov3-face.cfg\"\n",
    "WEIGHT = \"/Users/millyduong/Documents/face_rec/yolo/drive-download-20210121T071505Z-001/yolov3-wider_16000.weights\"\n",
    "\n",
    "net = cv2.dnn.readNetFromDarknet(MODEL, WEIGHT)\n",
    "net.setPreferableBackend(cv2.dnn.DNN_BACKEND_OPENCV)\n",
    "net.setPreferableTarget(cv2.dnn.DNN_TARGET_CPU)"
   ]
  },
  {
   "cell_type": "code",
   "execution_count": 26,
   "metadata": {},
   "outputs": [],
   "source": [
    "IMG_WIDTH, IMG_HEIGHT = 416, 416\n",
    "\n",
    "# Making blob object from original image\n",
    "blob = cv2.dnn.blobFromImage(frame, 1/255, (IMG_WIDTH, IMG_HEIGHT),\n",
    "                             [0, 0, 0], 1, crop=False)\n",
    "\n",
    "# Set model input\n",
    "net.setInput(blob)\n",
    "\n",
    "# Define the layers that we want to get the outputs from\n",
    "output_layers = net.getUnconnectedOutLayersNames()\n",
    "\n",
    "# Run 'prediction'\n",
    "outs = net.forward(output_layers)"
   ]
  },
  {
   "cell_type": "code",
   "execution_count": 27,
   "metadata": {},
   "outputs": [
    {
     "data": {
      "text/plain": [
       "3"
      ]
     },
     "execution_count": 27,
     "metadata": {},
     "output_type": "execute_result"
    }
   ],
   "source": [
    "len(outs)"
   ]
  },
  {
   "cell_type": "code",
   "execution_count": 28,
   "metadata": {},
   "outputs": [],
   "source": [
    "\n",
    "frame_height = frame.shape[0]\n",
    "frame_width = frame.shape[1]\n",
    "\n",
    "# Scan through all the bounding boxes output from the network and keep only\n",
    "# the ones with high confidence scores. Assign the box's class label as the\n",
    "# class with the highest score.\n",
    "\n",
    "confidences = []\n",
    "boxes = []\n",
    "\n",
    "# Each frame produces 3 outs corresponding to 3 output layers\n",
    "for out in outs:\n",
    "\t\t# 1 out has multiple predictions with length of 6\n",
    "    for detection in out:\n",
    "        confidence = detection[-1]\n",
    "\t\t\t\t# Extract position data of face area (only area with high confidence)\n",
    "        if confidence > 0.5:\n",
    "            center_x = int(detection[0] * frame_width)\n",
    "            center_y = int(detection[1] * frame_height)\n",
    "            width = int(detection[2] * frame_width)\n",
    "            height = int(detection[3] * frame_height)\n",
    "            \n",
    "\t\t\t\t\t\t# Find the top left point of the bounding box \n",
    "            topleft_x = center_x - width/2\n",
    "            topleft_y = center_y - height/2\n",
    "            confidences.append(float(confidence))\n",
    "            boxes.append([topleft_x, topleft_y, width, height])\n",
    "\n",
    "# Perform non maximum suppression to eliminate redundant\n",
    "# overlapping boxes with lower confidences.\n",
    "indices = cv2.dnn.NMSBoxes(boxes, confidences, 0.5, 0.4)"
   ]
  },
  {
   "cell_type": "code",
   "execution_count": 29,
   "metadata": {},
   "outputs": [
    {
     "data": {
      "text/plain": [
       "[[226.0, 10.0, 282, 194],\n",
       " [216.5, 28.0, 297, 210],\n",
       " [210.0, -30.0, 310, 326],\n",
       " [243.5, -15.5, 253, 243],\n",
       " [244.0, -1.0, 254, 248],\n",
       " [253.5, 10.5, 235, 265],\n",
       " [0.0, 110.0, 36, 64]]"
      ]
     },
     "execution_count": 29,
     "metadata": {},
     "output_type": "execute_result"
    }
   ],
   "source": [
    "boxes"
   ]
  },
  {
   "cell_type": "code",
   "execution_count": 30,
   "metadata": {},
   "outputs": [
    {
     "name": "stdout",
     "output_type": "stream",
     "text": [
      "[4]\n"
     ]
    }
   ],
   "source": [
    "print(indices[0])"
   ]
  },
  {
   "cell_type": "code",
   "execution_count": 31,
   "metadata": {},
   "outputs": [],
   "source": [
    "result = frame.copy()\n",
    "final_boxes = []\n",
    "for i in indices:\n",
    "    i = i[0]\n",
    "    box = boxes[i]\n",
    "    final_boxes.append(box)\n",
    "\n",
    "    # Extract position data\n",
    "    left = int(box[0])\n",
    "    top = int(box[1])\n",
    "    width = int(box[2])\n",
    "    height = int(box[3])\n",
    "\n",
    "    # Draw bouding box with the above measurements\n",
    "    ### YOUR CODE HERE\n",
    "    cv2.rectangle(result, (left,top), ((left+width), (top+height)), (0,255,0), 2)\n",
    "    \n",
    "#     image = cv2.rectangle(image, start_point, end_point, color, thickness) \n",
    "\n",
    "\t\t\n",
    "\t\t# Display text about confidence rate above each box\n",
    "    text = f'{confidences[i]:.2f}'\n",
    "    ### YOUR CODE HERE\n",
    "#     cv2.write(text)\n",
    "\n",
    "\n",
    "# Display text about number of detected faces on topleft corner\n",
    "# YOUR CODE HERE\n",
    "# cv2.putText(result,\n",
    "#             f\"Number of faces:{len(indices)}\")\n",
    "\n",
    "cv2.imshow('face detection', result)"
   ]
  },
  {
   "cell_type": "code",
   "execution_count": null,
   "metadata": {},
   "outputs": [],
   "source": []
  }
 ],
 "metadata": {
  "kernelspec": {
   "display_name": "Python 3",
   "language": "python",
   "name": "python3"
  },
  "language_info": {
   "codemirror_mode": {
    "name": "ipython",
    "version": 3
   },
   "file_extension": ".py",
   "mimetype": "text/x-python",
   "name": "python",
   "nbconvert_exporter": "python",
   "pygments_lexer": "ipython3",
   "version": "3.9.1"
  }
 },
 "nbformat": 4,
 "nbformat_minor": 2
}
